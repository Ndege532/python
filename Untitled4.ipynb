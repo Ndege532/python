{
 "cells": [
  {
   "cell_type": "code",
   "execution_count": 3,
   "metadata": {},
   "outputs": [
    {
     "name": "stdout",
     "output_type": "stream",
     "text": [
      "hello world am coding in pyhton\n"
     ]
    }
   ],
   "source": [
    "import math\n",
    "import numpy\n",
    "import matplotlib\n",
    "\n",
    "print (\"hello world am coding in pyhton\")"
   ]
  },
  {
   "cell_type": "code",
   "execution_count": 6,
   "metadata": {},
   "outputs": [
    {
     "name": "stdout",
     "output_type": "stream",
     "text": [
      "5\n"
     ]
    },
    {
     "data": {
      "text/plain": [
       "6"
      ]
     },
     "execution_count": 6,
     "metadata": {},
     "output_type": "execute_result"
    }
   ],
   "source": [
    "print(2+3)\n",
    "\n",
    "2*3"
   ]
  },
  {
   "cell_type": "code",
   "execution_count": 17,
   "metadata": {},
   "outputs": [
    {
     "ename": "SyntaxError",
     "evalue": "invalid syntax (<ipython-input-17-ecc58d562ad4>, line 9)",
     "output_type": "error",
     "traceback": [
      "\u001b[1;36m  File \u001b[1;32m\"<ipython-input-17-ecc58d562ad4>\"\u001b[1;36m, line \u001b[1;32m9\u001b[0m\n\u001b[1;33m    points={'A+':5.0,'A':4.0,'A-':3.67,'B+':3.33,'B':3,0,'B-':2.67,'C+':2.33,'C':2.0,'C-':1.67,'D+':1.33,'D':1.0,'F':0.0}\u001b[0m\n\u001b[1;37m                                                        ^\u001b[0m\n\u001b[1;31mSyntaxError\u001b[0m\u001b[1;31m:\u001b[0m invalid syntax\n"
     ]
    }
   ],
   "source": [
    "# program to calculate students GPA\n",
    "\n",
    "print (\"welcome to GPA calculator\")\n",
    "print (\"please enter all you letter grades, one at a time\")\n",
    "print (\"Enter a blank line to designate the end\")\n",
    "\n",
    "# maps from letter grade to point value\n",
    "\n",
    "points={'A+':5.0,'A':4.0,'A-':3.67,'B+':3.33,'B':3,0,'B-':2.67,'C+':2.33,'C':2.0,'C-':1.67,'D+':1.33,'D':1.0,'F':0.0}\n",
    "num_courses = 0\n",
    "total_points = 0\n",
    "done = false\n",
    "while not done:\n",
    "    grade = input()\n",
    "    if grade =='':\n",
    "        done = True\n",
    "        elif grade not in points:\n",
    "            print(\"Unknown grade '{0}' being ignored\". format (grade))\n",
    "            \n",
    "            else:\n",
    "                num_courses +=1\n",
    "                total points +=points[grade]\n",
    "                \n",
    "                if num_courses>0:\n",
    "                    print ('Your GPA is {0: .3}'. format (total_points/num_courses))\n",
    "                    "
   ]
  },
  {
   "cell_type": "code",
   "execution_count": null,
   "metadata": {},
   "outputs": [],
   "source": []
  }
 ],
 "metadata": {
  "kernelspec": {
   "display_name": "Python 3",
   "language": "python",
   "name": "python3"
  },
  "language_info": {
   "codemirror_mode": {
    "name": "ipython",
    "version": 3
   },
   "file_extension": ".py",
   "mimetype": "text/x-python",
   "name": "python",
   "nbconvert_exporter": "python",
   "pygments_lexer": "ipython3",
   "version": "3.7.1"
  }
 },
 "nbformat": 4,
 "nbformat_minor": 2
}
